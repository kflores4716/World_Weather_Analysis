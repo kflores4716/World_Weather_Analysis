{
 "cells": [
  {
   "cell_type": "code",
   "execution_count": 23,
   "id": "d3bbbc94",
   "metadata": {},
   "outputs": [],
   "source": [
    "# Import the random module\n",
    "import random"
   ]
  },
  {
   "cell_type": "code",
   "execution_count": 24,
   "id": "9a93deec",
   "metadata": {},
   "outputs": [
    {
     "data": {
      "text/plain": [
       "-4"
      ]
     },
     "execution_count": 24,
     "metadata": {},
     "output_type": "execute_result"
    }
   ],
   "source": [
    "random.randint(-90, 90)"
   ]
  },
  {
   "cell_type": "code",
   "execution_count": 25,
   "id": "efd58962",
   "metadata": {},
   "outputs": [
    {
     "data": {
      "text/plain": [
       "0.7242412187535052"
      ]
     },
     "execution_count": 25,
     "metadata": {},
     "output_type": "execute_result"
    }
   ],
   "source": [
    "random.random()"
   ]
  },
  {
   "cell_type": "code",
   "execution_count": 26,
   "id": "ed43443c",
   "metadata": {},
   "outputs": [
    {
     "data": {
      "text/plain": [
       "[78.00528596431934,\n",
       " 82.24275096040915,\n",
       " -82.1179867225133,\n",
       " 7.323660855390457,\n",
       " 2.468017614217703,\n",
       " 64.10482794560384,\n",
       " 38.365866782569746,\n",
       " -28.4631382404256,\n",
       " -56.57014705433334,\n",
       " 27.76178077639787]"
      ]
     },
     "execution_count": 26,
     "metadata": {},
     "output_type": "execute_result"
    }
   ],
   "source": [
    "# EXAMPLE Showing how to generate 10 random floating-point decimal latitudes between -90 and 89\n",
    "x = 1\n",
    "latitudes = []\n",
    "while x < 11:\n",
    "    random_lat = random.randint(-90, 89) + random.random()\n",
    "    latitudes.append(random_lat)\n",
    "    x += 1\n",
    "    \n",
    "latitudes"
   ]
  },
  {
   "cell_type": "code",
   "execution_count": 27,
   "id": "55b1f6c9",
   "metadata": {},
   "outputs": [
    {
     "data": {
      "text/plain": [
       "-49"
      ]
     },
     "execution_count": 27,
     "metadata": {},
     "output_type": "execute_result"
    }
   ],
   "source": [
    "# Testing the randrange() function\n",
    "random.randrange(-90, 90, step = 1)"
   ]
  },
  {
   "cell_type": "code",
   "execution_count": 28,
   "id": "aad363e0",
   "metadata": {},
   "outputs": [
    {
     "data": {
      "text/plain": [
       "-48"
      ]
     },
     "execution_count": 28,
     "metadata": {},
     "output_type": "execute_result"
    }
   ],
   "source": [
    "# More randrange() testing\n",
    "random.randrange(-90, 90, step = 3)"
   ]
  },
  {
   "cell_type": "code",
   "execution_count": 29,
   "id": "41138e32",
   "metadata": {},
   "outputs": [
    {
     "data": {
      "text/plain": [
       "-87.70124100883268"
      ]
     },
     "execution_count": 29,
     "metadata": {},
     "output_type": "execute_result"
    }
   ],
   "source": [
    "# testing the random.uniform() function\n",
    "random.uniform(-90, 90)"
   ]
  },
  {
   "cell_type": "code",
   "execution_count": 30,
   "id": "de3ba595",
   "metadata": {},
   "outputs": [],
   "source": [
    "# Import NumPy module\n",
    "import numpy as np"
   ]
  },
  {
   "cell_type": "code",
   "execution_count": 31,
   "id": "13fb4202",
   "metadata": {},
   "outputs": [
    {
     "data": {
      "text/plain": [
       "1.4354281418193864"
      ]
     },
     "execution_count": 31,
     "metadata": {},
     "output_type": "execute_result"
    }
   ],
   "source": [
    "# Testing random() with numpy\n",
    "np.random.uniform(-90.000, 90.000)"
   ]
  },
  {
   "cell_type": "code",
   "execution_count": 32,
   "id": "953eb80f",
   "metadata": {},
   "outputs": [
    {
     "data": {
      "text/plain": [
       "array([ 13.20597856, -68.71133334,  24.15160169,  87.72791534,\n",
       "        80.22023792, -64.91428751,   2.4656812 ,  81.8247216 ,\n",
       "        81.35288616,  80.0687724 , -59.66930759, -63.32393271,\n",
       "         2.92717578,  47.35327361, -85.41675436,  71.14396546,\n",
       "       -30.74699972, -13.49818192, -32.85255424,  80.32582524,\n",
       "       -18.5474424 ,  39.23187784,  38.73306407,  79.38497554,\n",
       "       -66.5929895 ,  20.43422771, -40.00743035, -62.43458583,\n",
       "       -62.20219513, -54.46569737, -12.11651831, -84.93639032,\n",
       "        26.61570016,  82.7052072 , -59.0219677 , -66.99270838,\n",
       "        19.02110429,  66.79736514,  42.71808939, -39.83718409,\n",
       "        79.84243794, -24.95985021, -83.49025994, -23.8635499 ,\n",
       "       -21.20946758, -52.85183788, -43.69850177,  48.42644949,\n",
       "       -53.908085  ,  11.60136685])"
      ]
     },
     "execution_count": 32,
     "metadata": {},
     "output_type": "execute_result"
    }
   ],
   "source": [
    "# Testing numpy and random with the \"size\" parameter\n",
    "np.random.uniform(-90.000, 90.000, size = 50)"
   ]
  },
  {
   "cell_type": "code",
   "execution_count": 33,
   "id": "e2859b8e",
   "metadata": {},
   "outputs": [],
   "source": [
    "# Import timeit\n",
    "import timeit"
   ]
  },
  {
   "cell_type": "code",
   "execution_count": 34,
   "id": "2222dccb",
   "metadata": {},
   "outputs": [
    {
     "name": "stdout",
     "output_type": "stream",
     "text": [
      "15 µs ± 347 ns per loop (mean ± std. dev. of 7 runs, 100000 loops each)\n"
     ]
    }
   ],
   "source": [
    "# Timing how long this method takes\n",
    "%timeit np.random.uniform(-90.000, 90.000, size = 1500)"
   ]
  },
  {
   "cell_type": "code",
   "execution_count": 35,
   "id": "058c426e",
   "metadata": {},
   "outputs": [
    {
     "name": "stdout",
     "output_type": "stream",
     "text": [
      "1.72 ms ± 120 µs per loop (mean ± std. dev. of 7 runs, 1000 loops each)\n"
     ]
    }
   ],
   "source": [
    "# Timing how long a whiloe loop would take\n",
    "def latitudes(size):\n",
    "    latitudes = []\n",
    "    x = 0\n",
    "    while x < (size):\n",
    "        random_lat = random.randint(-90, 90) + random.random()\n",
    "        latitudes.append(random_lat)\n",
    "        x += 1\n",
    "    return latitudes\n",
    "# Call the function with 1500.\n",
    "%timeit latitudes(1500)"
   ]
  },
  {
   "cell_type": "code",
   "execution_count": 48,
   "id": "aa9233d3",
   "metadata": {},
   "outputs": [],
   "source": [
    "# # latitudes(size) = random.randint(-90, 90) + random.random()\n",
    "\n",
    "# latitudes = [-90.000, 90.000]\n",
    "\n",
    "# x = 0\n",
    "\n",
    "# for x in latitudes:\n",
    "\n",
    "#     print(x)\n",
    "    \n",
    "# # Call the function with 1500.\n",
    "# %timeit latitudes(1500)"
   ]
  },
  {
   "cell_type": "code",
   "execution_count": null,
   "id": "965d2b6d",
   "metadata": {},
   "outputs": [],
   "source": []
  }
 ],
 "metadata": {
  "kernelspec": {
   "display_name": "PythonData",
   "language": "python",
   "name": "pythondata"
  },
  "language_info": {
   "codemirror_mode": {
    "name": "ipython",
    "version": 3
   },
   "file_extension": ".py",
   "mimetype": "text/x-python",
   "name": "python",
   "nbconvert_exporter": "python",
   "pygments_lexer": "ipython3",
   "version": "3.7.11"
  }
 },
 "nbformat": 4,
 "nbformat_minor": 5
}
